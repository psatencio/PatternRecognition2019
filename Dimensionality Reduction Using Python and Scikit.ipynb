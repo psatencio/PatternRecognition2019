{
 "cells": [
  {
   "cell_type": "markdown",
   "metadata": {},
   "source": [
    "<hr>\n",
    "\n",
    "# Universidad Nacional de Colombia\n",
    "## Clasificación y Reconocimiento de Patrones\n",
    "### 2019\n",
    "\n",
    "<hr>"
   ]
  },
  {
   "cell_type": "markdown",
   "metadata": {},
   "source": [
    "# 2.1. Feature Selection"
   ]
  },
  {
   "cell_type": "markdown",
   "metadata": {},
   "source": [
    "<hr>\n",
    "\n",
    "## 2.1.2. Statistical Approach\n",
    "\n",
    "A simple statistical approach consists in removing features with low variance, that is, features with low information."
   ]
  },
  {
   "cell_type": "markdown",
   "metadata": {},
   "source": [
    "<hr>\n",
    "\n",
    "### Variance Threshold"
   ]
  },
  {
   "cell_type": "code",
   "execution_count": null,
   "metadata": {},
   "outputs": [],
   "source": [
    "import numpy as np\n",
    "from sklearn.feature_selection import VarianceThreshold"
   ]
  },
  {
   "cell_type": "code",
   "execution_count": null,
   "metadata": {},
   "outputs": [],
   "source": [
    "X = np.array([[0, 0, 1], [0, 1, 0], [1, 0, 0], [0, 1, 1], [0, 1, 0], [0, 1, 1]])\n",
    "\n",
    "selector = VarianceThreshold(threshold=0.2)\n",
    "X_new = selector.fit_transform(X)"
   ]
  },
  {
   "cell_type": "code",
   "execution_count": null,
   "metadata": {},
   "outputs": [],
   "source": [
    "print(\"Original features: \",X)\n",
    "print(\"Selected features: \",X_new)"
   ]
  },
  {
   "cell_type": "markdown",
   "metadata": {},
   "source": [
    "<hr>\n",
    "Try same approach with a known dataset: <a href=\"https://es.wikipedia.org/wiki/Iris_flor_conjunto_de_datos\">Iris Dataset</a>"
   ]
  },
  {
   "cell_type": "code",
   "execution_count": null,
   "metadata": {},
   "outputs": [],
   "source": [
    "!pip install tabulate"
   ]
  },
  {
   "cell_type": "code",
   "execution_count": null,
   "metadata": {},
   "outputs": [],
   "source": [
    "from sklearn.datasets import load_iris\n",
    "from tabulate import tabulate"
   ]
  },
  {
   "cell_type": "code",
   "execution_count": null,
   "metadata": {},
   "outputs": [],
   "source": [
    "iris = load_iris()\n",
    "\n",
    "X, y = iris.data, iris.target"
   ]
  },
  {
   "cell_type": "code",
   "execution_count": null,
   "metadata": {},
   "outputs": [],
   "source": [
    "headers = [\"feature 1\", \"feature 2\", \"feature 3\", \"feature 4\"]\n",
    "table = tabulate(X, headers, tablefmt=\"fancy_grid\")\n",
    "print(table)"
   ]
  },
  {
   "cell_type": "code",
   "execution_count": null,
   "metadata": {},
   "outputs": [],
   "source": [
    "selector = VarianceThreshold(threshold=0.6) #feature selection\n",
    "X_new = selector.fit_transform(X)\n",
    "\n",
    "sel_features = np.squeeze(np.where(selector.get_support()==True)) #Where selection is True?\n",
    "\n",
    "print(\"Features selected: \", sel_features)"
   ]
  },
  {
   "cell_type": "code",
   "execution_count": null,
   "metadata": {},
   "outputs": [],
   "source": [
    "headers = [\"feature \"+str(i+1) for i in sel_features]\n",
    "table = tabulate(X_new, headers, tablefmt=\"fancy_grid\")\n",
    "print(table)"
   ]
  },
  {
   "cell_type": "code",
   "execution_count": null,
   "metadata": {},
   "outputs": [],
   "source": [
    "import matplotlib.pyplot as plt\n",
    "\n",
    "colors = ['navy', 'turquoise', 'darkorange']\n",
    "\n",
    "target_names = iris.target_names\n",
    "\n",
    "color = [colors[i] for i in y]\n",
    "label = [target_names[i] for i in y]\n",
    "\n",
    "plt.figure(figsize=(5,5))\n",
    "plt.title(\"Selected features using Variance Threshold\")\n",
    "\n",
    "plt.scatter(X_new[:, 0], X_new[:, 1], color=color)\n",
    "\n",
    "plt.xlabel(\"feature \"+str(sel_features[0]+1))\n",
    "plt.ylabel(\"feature \"+str(sel_features[1]+1))\n",
    "plt.show()"
   ]
  },
  {
   "cell_type": "markdown",
   "metadata": {},
   "source": [
    "<hr>\n",
    "\n",
    "### Statistical Test $\\chi^2$\n",
    "\n",
    "We can use statistcal tests like chi-squared $\\chi^2$ for features selection. This tests will answer the question:\n",
    "\n",
    "<br>\n",
    "\n",
    "<center> <font size=5> How independent are features from target? </font></center>"
   ]
  },
  {
   "cell_type": "code",
   "execution_count": null,
   "metadata": {},
   "outputs": [],
   "source": [
    "from sklearn.datasets import load_iris\n",
    "from sklearn.feature_selection import SelectKBest\n",
    "from sklearn.feature_selection import chi2\n",
    "import matplotlib.pyplot as plt"
   ]
  },
  {
   "cell_type": "code",
   "execution_count": null,
   "metadata": {},
   "outputs": [],
   "source": [
    "iris = load_iris()\n",
    "\n",
    "X, y = iris.data, iris.target\n",
    "\n",
    "k=2 #best 2 independets features\n",
    "\n",
    "selector = SelectKBest(score_func=chi2, k=2)\n",
    "\n",
    "X_new = selector.fit_transform(X, y)\n",
    "\n",
    "sel_features = np.squeeze(np.where(selector.get_support()==True)) #Where selection is True?\n",
    "\n",
    "headers = [\"feature \"+str(i+1) for i in sel_features]\n",
    "table = tabulate(X_new, headers, tablefmt=\"fancy_grid\")\n",
    "print(table)"
   ]
  },
  {
   "cell_type": "code",
   "execution_count": null,
   "metadata": {},
   "outputs": [],
   "source": [
    "colors = ['navy', 'turquoise', 'darkorange']\n",
    "\n",
    "target_names = iris.target_names\n",
    "\n",
    "color = [colors[i] for i in y]\n",
    "label = [target_names[i] for i in y]\n",
    "\n",
    "plt.figure(figsize=(5,5))\n",
    "plt.title(\"Selected features using Variance Threshold\")\n",
    "\n",
    "plt.scatter(X_new[:, 0], X_new[:, 1], color=color)\n",
    "\n",
    "plt.xlabel(\"feature \"+str(sel_features[0]+1))\n",
    "plt.ylabel(\"feature \"+str(sel_features[1]+1))\n",
    "plt.show()"
   ]
  },
  {
   "cell_type": "markdown",
   "metadata": {},
   "source": [
    "<hr>\n",
    "\n",
    "## 2.1.3. Wrappers and Embedded Models\n",
    "\n",
    "<hr>"
   ]
  },
  {
   "cell_type": "markdown",
   "metadata": {},
   "source": [
    "### Recursive Feature Elimination (Wrappers)\n",
    "\n",
    "Using and external predictor, executes k iterations to recursively remove non-relevant features until a number of features defined by user is reached.\n",
    "\n",
    "<br>\n",
    "\n",
    "<center><font size=3> <b>Main feature</b>: Uses iterations to reach a limit of features defined by user.</font></center>"
   ]
  },
  {
   "cell_type": "code",
   "execution_count": null,
   "metadata": {},
   "outputs": [],
   "source": [
    "from sklearn.datasets import load_digits\n",
    "from sklearn.feature_selection import RFE\n",
    "from sklearn.linear_model import LogisticRegression\n",
    "import matplotlib.pyplot as plt\n",
    "\n",
    "# Load the digits dataset\n",
    "digits = load_digits()\n",
    "X = digits.images.reshape((len(digits.images), -1))\n",
    "y = digits.target"
   ]
  },
  {
   "cell_type": "code",
   "execution_count": null,
   "metadata": {},
   "outputs": [],
   "source": [
    "index = 234\n",
    "img = np.reshape(X[index,:], (8,8))\n",
    "label = y[index]\n",
    "# Plot pixel ranking\n",
    "plt.figure(figsize=(4,4))\n",
    "plt.imshow(img, cmap='gray')\n",
    "plt.title(\"A sample from digits dataset with label \"+str(label))\n",
    "plt.show()"
   ]
  },
  {
   "cell_type": "code",
   "execution_count": null,
   "metadata": {},
   "outputs": [],
   "source": [
    "# Create the RFE object and rank each pixel\n",
    "model = LogisticRegression()\n",
    "rfe = RFE(estimator=model, n_features_to_select=32, step=1) #best 32 features\n",
    "rfe.fit(X, y)\n",
    "ranking = rfe.ranking_.reshape(digits.images[0].shape)"
   ]
  },
  {
   "cell_type": "code",
   "execution_count": null,
   "metadata": {},
   "outputs": [],
   "source": [
    "# Show ranked features\n",
    "print rfe.ranking_\n",
    "\n",
    "# Plot pixel ranking\n",
    "plt.figure(figsize=(6,6))\n",
    "plt.imshow(ranking, cmap=plt.cm.Blues)\n",
    "plt.colorbar()\n",
    "plt.title(\"Ranking of pixels with RFE - low is best\", fontsize=10)\n",
    "plt.show()"
   ]
  },
  {
   "cell_type": "markdown",
   "metadata": {},
   "source": [
    "<hr>\n",
    "\n",
    "### SelectFromModel (Embedded Models)"
   ]
  },
  {
   "cell_type": "code",
   "execution_count": null,
   "metadata": {},
   "outputs": [],
   "source": [
    "from sklearn.ensemble import ExtraTreesClassifier\n",
    "from sklearn.datasets import load_digits\n",
    "from sklearn.feature_selection import SelectFromModel"
   ]
  },
  {
   "cell_type": "code",
   "execution_count": null,
   "metadata": {},
   "outputs": [],
   "source": [
    "#load digits dataset\n",
    "digits = load_digits()\n",
    "X = digits.images.reshape((len(digits.images), -1))\n",
    "y = digits.target\n",
    "\n",
    "#train prediction model\n",
    "predictor = ExtraTreesClassifier()\n",
    "predictor.fit(X, y)"
   ]
  },
  {
   "cell_type": "code",
   "execution_count": null,
   "metadata": {},
   "outputs": [],
   "source": [
    "model = SelectFromModel(predictor, threshold=0.02, prefit=True)\n",
    "X_new = model.transform(X) #dataset with selected features"
   ]
  },
  {
   "cell_type": "code",
   "execution_count": null,
   "metadata": {},
   "outputs": [],
   "source": [
    "selection = model.get_support()\n",
    "selection_map = np.reshape(selection, (8,8))\n",
    "\n",
    "num_selected_features = np.count_nonzero(selection)"
   ]
  },
  {
   "cell_type": "code",
   "execution_count": null,
   "metadata": {},
   "outputs": [],
   "source": [
    "# Plot pixel ranking\n",
    "plt.figure(figsize=(6,6))\n",
    "plt.imshow(selection_map, cmap='gray')\n",
    "plt.title(\"Selection of \"+str(num_selected_features)+\" most important features using SfM\", fontsize=10)\n",
    "plt.show()"
   ]
  },
  {
   "cell_type": "markdown",
   "metadata": {},
   "source": [
    "<hr>\n",
    "\n",
    "# Feature Extraction"
   ]
  },
  {
   "cell_type": "markdown",
   "metadata": {},
   "source": [
    "<hr>\n",
    "\n",
    "## 2.2.2. Principal Component Analysis (PCA)\n",
    "\n",
    "PCA consists in projecting a set of data over an hyperspace composed by principal dimensions of data."
   ]
  },
  {
   "cell_type": "markdown",
   "metadata": {},
   "source": [
    "<hr>\n",
    "\n",
    "### PCA Using Single Value Decomposition\n",
    "\n",
    "Eigenvalues can be extracted using a matrix factorization approach, for example, SVD. SVD is expressed as:\n",
    "\n",
    "<br>\n",
    "\n",
    "$X = U \\cdot \\sum \\cdot V^T$\n",
    "\n",
    "Where $V$ is a the matrix containing the eigenvalues of $X$\n",
    "\n",
    "$\n",
    "\\mathbf{V} =\n",
    "\\begin{pmatrix}\n",
    "  \\mid & \\mid & & \\mid \\\\\n",
    "  \\mathbf{c_1} & \\mathbf{c_2} & \\cdots & \\mathbf{c_n} \\\\\n",
    "  \\mid & \\mid & & \\mid\n",
    "\\end{pmatrix}\n",
    "$"
   ]
  },
  {
   "cell_type": "code",
   "execution_count": null,
   "metadata": {},
   "outputs": [],
   "source": [
    "#generate a test dataset\n",
    "import numpy as np\n",
    "import matplotlib.pyplot as plt\n",
    "from mpl_toolkits.mplot3d import Axes3D\n",
    "\n",
    "np.random.seed(4)\n",
    "m = 60\n",
    "w1, w2 = 0.1, 0.3\n",
    "noise = 0.1\n",
    "\n",
    "angles = np.random.rand(m) * 3 * np.pi / 2 - 0.5\n",
    "X = np.empty((m, 3))\n",
    "X[:, 0] = np.cos(angles) + np.sin(angles)/2 + noise * np.random.randn(m) / 2\n",
    "X[:, 1] = np.sin(angles) * 0.7 + noise * np.random.randn(m) / 2\n",
    "X[:, 2] = X[:, 0] * w1 + X[:, 1] * w2 + noise * np.random.randn(m)\n",
    "\n",
    "fig = plt.figure(figsize=(9,7))\n",
    "ax = fig.add_subplot(111, projection='3d')\n",
    "ax.scatter(X[:,0], X[:,1], X[:,2])\n",
    "\n",
    "ax.set_title(\"Input dataset\")\n",
    "ax.set_xlabel(r'$f_0$', fontsize=15)\n",
    "ax.set_ylabel(r'$f_1$', fontsize=15)\n",
    "ax.set_zlabel(r'$f_2$', fontsize=15)"
   ]
  },
  {
   "cell_type": "code",
   "execution_count": null,
   "metadata": {},
   "outputs": [],
   "source": [
    "from numpy.linalg import svd\n",
    "\n",
    "# Apply Single Value Decomposition over X\n",
    "X_centered = X - X.mean(axis=0)\n",
    "U, s, Vt = svd(X_centered) "
   ]
  },
  {
   "cell_type": "code",
   "execution_count": null,
   "metadata": {},
   "outputs": [],
   "source": [
    "print(Vt) #print Eigenvalues"
   ]
  },
  {
   "cell_type": "code",
   "execution_count": null,
   "metadata": {},
   "outputs": [],
   "source": [
    "#Project X over first principal components\n",
    "\n",
    "V_prime = Vt.T[:, :2]\n",
    "X2D = np.dot(X_centered, V_prime)"
   ]
  },
  {
   "cell_type": "code",
   "execution_count": null,
   "metadata": {},
   "outputs": [],
   "source": [
    "plt.title(\"Reduced Dataset\")\n",
    "plt.scatter(X2D[:,0], X2D[:,1])\n",
    "\n",
    "plt.xlabel(r'$\\lambda^0$')\n",
    "plt.ylabel(r'$\\lambda^1$')\n",
    "plt.show()"
   ]
  },
  {
   "cell_type": "markdown",
   "metadata": {},
   "source": [
    "<hr>\n",
    "\n",
    "### PCA Using Scikit"
   ]
  },
  {
   "cell_type": "code",
   "execution_count": null,
   "metadata": {},
   "outputs": [],
   "source": [
    "from sklearn.decomposition import PCA\n",
    "\n",
    "pca = PCA(n_components = 2)\n",
    "X2D = pca.fit_transform(X)"
   ]
  },
  {
   "cell_type": "code",
   "execution_count": null,
   "metadata": {},
   "outputs": [],
   "source": [
    "print(\"First 2 components by SVD: \",Vt[:2])\n",
    "print(\"First 2 components by Scikit: \", pca.components_)"
   ]
  },
  {
   "cell_type": "markdown",
   "metadata": {},
   "source": [
    "Apply PCA over iris dataset"
   ]
  },
  {
   "cell_type": "code",
   "execution_count": null,
   "metadata": {},
   "outputs": [],
   "source": [
    "iris = load_iris()\n",
    "X, y = iris.data, iris.target\n",
    "k=2 #first 2 principal components\n",
    "\n",
    "pca = PCA(n_components=k)\n",
    "X_new = pca.fit_transform(X)"
   ]
  },
  {
   "cell_type": "code",
   "execution_count": null,
   "metadata": {},
   "outputs": [],
   "source": [
    "colors = ['navy', 'turquoise', 'darkorange']\n",
    "\n",
    "target_names = iris.target_names\n",
    "\n",
    "color = [colors[i] for i in y]\n",
    "label = [target_names[i] for i in y]\n",
    "\n",
    "plt.figure(figsize=(5,5))\n",
    "plt.title(\"Iris dataset projection over first 2 PC\")\n",
    "\n",
    "plt.scatter(X_new[:, 0], X_new[:, 1], color=color)\n",
    "\n",
    "plt.xlabel(r'$\\lambda_0$', fontsize=15)\n",
    "plt.ylabel(r'$\\lambda_1$', fontsize=15)\n",
    "plt.show()"
   ]
  },
  {
   "cell_type": "markdown",
   "metadata": {},
   "source": [
    "<hr>\n",
    "\n",
    "### Non-Linear (PCA) / Kernel PCA\n",
    "\n",
    "In most complex cases, we can use a mathematical non-linear function or kernel to perform complex transformations of data."
   ]
  },
  {
   "cell_type": "code",
   "execution_count": null,
   "metadata": {},
   "outputs": [],
   "source": [
    "from sklearn.datasets import make_circles"
   ]
  },
  {
   "cell_type": "code",
   "execution_count": null,
   "metadata": {},
   "outputs": [],
   "source": [
    "np.random.seed(0)\n",
    "X, y = make_circles(n_samples=400, factor=.3, noise=.05)"
   ]
  },
  {
   "cell_type": "code",
   "execution_count": null,
   "metadata": {},
   "outputs": [],
   "source": [
    "colors = ['navy', 'darkorange']\n",
    "\n",
    "target_names = iris.target_names\n",
    "\n",
    "color = [colors[i] for i in y]\n",
    "label = [target_names[i] for i in y]\n",
    "\n",
    "plt.figure(figsize=(5,5))\n",
    "plt.title(\"Circle dataset\")\n",
    "\n",
    "plt.scatter(X[:, 0], X[:, 1], color=color)\n",
    "\n",
    "plt.xlabel(r'$f_0$', fontsize=15)\n",
    "plt.ylabel(r'$f_1$', fontsize=15)\n",
    "plt.show()"
   ]
  },
  {
   "cell_type": "markdown",
   "metadata": {},
   "source": [
    "Use simple PCA and evaluate result"
   ]
  },
  {
   "cell_type": "code",
   "execution_count": null,
   "metadata": {},
   "outputs": [],
   "source": [
    "pca = PCA(n_components=1)\n",
    "X_new = pca.fit_transform(X)"
   ]
  },
  {
   "cell_type": "code",
   "execution_count": null,
   "metadata": {},
   "outputs": [],
   "source": [
    "colors = ['navy', 'darkorange']\n",
    "\n",
    "target_names = iris.target_names\n",
    "\n",
    "color = [colors[i] for i in y]\n",
    "label = [target_names[i] for i in y]\n",
    "\n",
    "plt.figure(figsize=(5,5))\n",
    "plt.title(\"Circle dataset\")\n",
    "\n",
    "plt.scatter(np.linspace(0,len(X_new),len(X_new)), X_new, color=color)\n",
    "\n",
    "plt.ylabel(r'$\\lambda$', fontsize=15)\n",
    "plt.show()"
   ]
  },
  {
   "cell_type": "markdown",
   "metadata": {},
   "source": [
    "Now try with kernel PCA"
   ]
  },
  {
   "cell_type": "code",
   "execution_count": null,
   "metadata": {},
   "outputs": [],
   "source": [
    "from sklearn.decomposition import KernelPCA\n",
    "\n",
    "kpca = KernelPCA(kernel=\"rbf\", fit_inverse_transform=True, gamma=10)\n",
    "X_kpca = kpca.fit_transform(X)"
   ]
  },
  {
   "cell_type": "code",
   "execution_count": null,
   "metadata": {},
   "outputs": [],
   "source": [
    "colors = ['navy', 'darkorange']\n",
    "\n",
    "color = [colors[i] for i in y]\n",
    "\n",
    "plt.figure(figsize=(5,5))\n",
    "plt.title(\"Circle dataset\")\n",
    "\n",
    "plt.scatter(X_kpca[:, 0], X_kpca[:, 1], color=color)\n",
    "\n",
    "plt.xlabel(r'$\\lambda_0$', fontsize=15)\n",
    "plt.ylabel(r'$\\lambda_1$', fontsize=15)\n",
    "plt.show()"
   ]
  },
  {
   "cell_type": "markdown",
   "metadata": {},
   "source": [
    "<hr>\n",
    "\n",
    "# 4. Classwork\n",
    "\n",
    "Work over next problems, using previous code as a base:\n",
    "\n",
    "<hr>\n",
    "\n",
    "## 1. Load diabetes regression dataset \n",
    "\n",
    "using __load_diabetes()__ from sklearn.datasets\n",
    " 1. Tabulate data X and y.\n",
    " 2. Apply a feature selection approach to obtain best 3 features.\n",
    " 3. Plot using __plt.plot()__ 3 plots: $(x0, y), (x1, y), (x2, y)$"
   ]
  },
  {
   "cell_type": "code",
   "execution_count": null,
   "metadata": {},
   "outputs": [],
   "source": [
    "from sklearn.datasets import load_diabetes\n",
    "\n",
    "dataset = load_diabetes()\n",
    "X, y = dataset.data, dataset.target\n",
    "\n",
    "#normalize data (center and spread)\n",
    "X = X - np.mean(X, axis=0)\n",
    "X = X / np.std(X, axis=0)"
   ]
  },
  {
   "cell_type": "code",
   "execution_count": null,
   "metadata": {},
   "outputs": [],
   "source": [
    "headers = [\"feat\"+str(i) for i in range(1,11)]\n",
    "table = tabulate(X, headers, tablefmt=\"fancy_grid\", floatfmt=\".2f\", numalign='center')\n",
    "print table"
   ]
  },
  {
   "cell_type": "code",
   "execution_count": null,
   "metadata": {},
   "outputs": [],
   "source": [
    "from sklearn.feature_selection import f_regression\n",
    "\n",
    "#debido a que este problema es de regresion, utilizamos la funcion de score f_regression\n",
    "selector = SelectKBest(score_func=f_regression, k=3)\n",
    "X_new = selector.fit_transform(X, y)\n",
    "sel_features = np.squeeze(np.where(selector.get_support()==True)) #Where selection is True?\n",
    "\n",
    "headers = [\"feat\"+str(i+1) for i in sel_features]\n",
    "table = tabulate(X_new, headers, tablefmt=\"fancy_grid\",floatfmt=\".2f\", numalign='center')\n",
    "print(table)"
   ]
  },
  {
   "cell_type": "code",
   "execution_count": null,
   "metadata": {},
   "outputs": [],
   "source": [
    "plt.figure(figsize=(10,10))\n",
    "\n",
    "plt.ylabel(\"Diabetes index\")\n",
    "plt.xlabel(\"Features\")\n",
    "\n",
    "scale = 1\n",
    "\n",
    "plt.plot(X[:,sel_features[0]]*scale, y, 'r*')\n",
    "plt.plot(X[:,sel_features[1]]*scale, y, 'g*')\n",
    "plt.plot(X[:,sel_features[2]]*scale, y, 'b*')\n",
    "plt.show()"
   ]
  },
  {
   "cell_type": "markdown",
   "metadata": {},
   "source": [
    "<hr>\n",
    "\n",
    "## 2.  Load breast_cancer classification dataset \n",
    "\n",
    "using __load_breast_cancer()__ from sklearn.datasets: http://archive.ics.uci.edu/ml/datasets/breast+cancer+wisconsin+%28diagnostic%29\n",
    " 1. Tabulate data X and y.\n",
    " 2. Apply a feature extraction approach to obtain 2 features.\n",
    " 3. Plot using __plt.scatter()__ to obtain a figure where can be observed elements and classes."
   ]
  },
  {
   "cell_type": "code",
   "execution_count": null,
   "metadata": {},
   "outputs": [],
   "source": [
    "from sklearn.datasets import load_breast_cancer"
   ]
  },
  {
   "cell_type": "code",
   "execution_count": null,
   "metadata": {},
   "outputs": [],
   "source": [
    "dataset = load_breast_cancer()\n",
    "X, y = dataset.data, dataset.target"
   ]
  },
  {
   "cell_type": "code",
   "execution_count": null,
   "metadata": {},
   "outputs": [],
   "source": [
    "#Debido a que la cantidad de caracteristicas es muy grande, tabulamos solo una porcion del dataset\n",
    "headers = [\"feat\"+str(i) for i in range(1,11)]\n",
    "table = tabulate(X[:,0:10], headers, tablefmt=\"fancy_grid\", floatfmt=\".2f\", numalign='center')\n",
    "print table"
   ]
  },
  {
   "cell_type": "code",
   "execution_count": null,
   "metadata": {},
   "outputs": [],
   "source": [
    "from sklearn.decomposition import PCA\n",
    "\n",
    "#normalize data (center and spread)\n",
    "X = X - np.mean(X, axis=0)\n",
    "X = X / np.std(X, axis=0)\n",
    "\n",
    "#apply PCA\n",
    "pca = PCA(n_components = 2)\n",
    "X2D = pca.fit_transform(X)"
   ]
  },
  {
   "cell_type": "code",
   "execution_count": null,
   "metadata": {},
   "outputs": [],
   "source": [
    "#Plot results using extracted features and two classes\n",
    "\n",
    "colors = ['navy', 'darkorange']\n",
    "\n",
    "target_names = dataset.target_names\n",
    "\n",
    "color = [colors[i] for i in y]\n",
    "label = [target_names[i] for i in y]\n",
    "\n",
    "plt.figure(figsize=(7,7))\n",
    "plt.title(\"Breast cancer dataset projection over first 2 PC\")\n",
    "\n",
    "plt.scatter(X2D[:, 0], X2D[:, 1], color=color)\n",
    "\n",
    "plt.xlabel(r'$\\lambda_0$', fontsize=15)\n",
    "plt.ylabel(r'$\\lambda_1$', fontsize=15)\n",
    "plt.show()"
   ]
  },
  {
   "cell_type": "code",
   "execution_count": null,
   "metadata": {},
   "outputs": [],
   "source": []
  }
 ],
 "metadata": {
  "kernelspec": {
   "display_name": "Python 2",
   "language": "python",
   "name": "python2"
  },
  "language_info": {
   "codemirror_mode": {
    "name": "ipython",
    "version": 2
   },
   "file_extension": ".py",
   "mimetype": "text/x-python",
   "name": "python",
   "nbconvert_exporter": "python",
   "pygments_lexer": "ipython2",
   "version": "2.7.15"
  }
 },
 "nbformat": 4,
 "nbformat_minor": 2
}
